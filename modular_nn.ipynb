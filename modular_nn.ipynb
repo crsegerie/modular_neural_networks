{
  "nbformat": 4,
  "nbformat_minor": 0,
  "metadata": {
    "colab": {
      "name": "projet_DL.ipynb",
      "provenance": [],
      "collapsed_sections": [],
      "toc_visible": true
    },
    "kernelspec": {
      "name": "python3",
      "display_name": "Python 3"
    },
    "accelerator": "GPU",
    "widgets": {
      "application/vnd.jupyter.widget-state+json": {
        "ec12a4ab4ab5439299accdc68f7780ba": {
          "model_module": "@jupyter-widgets/controls",
          "model_name": "HBoxModel",
          "state": {
            "_view_name": "HBoxView",
            "_dom_classes": [],
            "_model_name": "HBoxModel",
            "_view_module": "@jupyter-widgets/controls",
            "_model_module_version": "1.5.0",
            "_view_count": null,
            "_view_module_version": "1.5.0",
            "box_style": "",
            "layout": "IPY_MODEL_80b5ba397e5144e4b5c4f9267516a6ac",
            "_model_module": "@jupyter-widgets/controls",
            "children": [
              "IPY_MODEL_17dd5e32a80e400ab70e9cac12530692",
              "IPY_MODEL_930de51046784198a07809d65de28c6d"
            ]
          }
        },
        "80b5ba397e5144e4b5c4f9267516a6ac": {
          "model_module": "@jupyter-widgets/base",
          "model_name": "LayoutModel",
          "state": {
            "_view_name": "LayoutView",
            "grid_template_rows": null,
            "right": null,
            "justify_content": null,
            "_view_module": "@jupyter-widgets/base",
            "overflow": null,
            "_model_module_version": "1.2.0",
            "_view_count": null,
            "flex_flow": null,
            "width": null,
            "min_width": null,
            "border": null,
            "align_items": null,
            "bottom": null,
            "_model_module": "@jupyter-widgets/base",
            "top": null,
            "grid_column": null,
            "overflow_y": null,
            "overflow_x": null,
            "grid_auto_flow": null,
            "grid_area": null,
            "grid_template_columns": null,
            "flex": null,
            "_model_name": "LayoutModel",
            "justify_items": null,
            "grid_row": null,
            "max_height": null,
            "align_content": null,
            "visibility": null,
            "align_self": null,
            "height": null,
            "min_height": null,
            "padding": null,
            "grid_auto_rows": null,
            "grid_gap": null,
            "max_width": null,
            "order": null,
            "_view_module_version": "1.2.0",
            "grid_template_areas": null,
            "object_position": null,
            "object_fit": null,
            "grid_auto_columns": null,
            "margin": null,
            "display": null,
            "left": null
          }
        },
        "17dd5e32a80e400ab70e9cac12530692": {
          "model_module": "@jupyter-widgets/controls",
          "model_name": "FloatProgressModel",
          "state": {
            "_view_name": "ProgressView",
            "style": "IPY_MODEL_a5f67dc6801d429b8a1be0d3fc87b15b",
            "_dom_classes": [],
            "description": "",
            "_model_name": "FloatProgressModel",
            "bar_style": "info",
            "max": 1,
            "_view_module": "@jupyter-widgets/controls",
            "_model_module_version": "1.5.0",
            "value": 1,
            "_view_count": null,
            "_view_module_version": "1.5.0",
            "orientation": "horizontal",
            "min": 0,
            "description_tooltip": null,
            "_model_module": "@jupyter-widgets/controls",
            "layout": "IPY_MODEL_5b2e14af25c246b0bb7e8a25262a12de"
          }
        },
        "930de51046784198a07809d65de28c6d": {
          "model_module": "@jupyter-widgets/controls",
          "model_name": "HTMLModel",
          "state": {
            "_view_name": "HTMLView",
            "style": "IPY_MODEL_a3bd790390224d66b6ca81d3eb4bde8b",
            "_dom_classes": [],
            "description": "",
            "_model_name": "HTMLModel",
            "placeholder": "​",
            "_view_module": "@jupyter-widgets/controls",
            "_model_module_version": "1.5.0",
            "value": " 9920512/? [00:20&lt;00:00, 967729.44it/s]",
            "_view_count": null,
            "_view_module_version": "1.5.0",
            "description_tooltip": null,
            "_model_module": "@jupyter-widgets/controls",
            "layout": "IPY_MODEL_7d5763cce8ec4327a1260958fad52036"
          }
        },
        "a5f67dc6801d429b8a1be0d3fc87b15b": {
          "model_module": "@jupyter-widgets/controls",
          "model_name": "ProgressStyleModel",
          "state": {
            "_view_name": "StyleView",
            "_model_name": "ProgressStyleModel",
            "description_width": "initial",
            "_view_module": "@jupyter-widgets/base",
            "_model_module_version": "1.5.0",
            "_view_count": null,
            "_view_module_version": "1.2.0",
            "bar_color": null,
            "_model_module": "@jupyter-widgets/controls"
          }
        },
        "5b2e14af25c246b0bb7e8a25262a12de": {
          "model_module": "@jupyter-widgets/base",
          "model_name": "LayoutModel",
          "state": {
            "_view_name": "LayoutView",
            "grid_template_rows": null,
            "right": null,
            "justify_content": null,
            "_view_module": "@jupyter-widgets/base",
            "overflow": null,
            "_model_module_version": "1.2.0",
            "_view_count": null,
            "flex_flow": null,
            "width": null,
            "min_width": null,
            "border": null,
            "align_items": null,
            "bottom": null,
            "_model_module": "@jupyter-widgets/base",
            "top": null,
            "grid_column": null,
            "overflow_y": null,
            "overflow_x": null,
            "grid_auto_flow": null,
            "grid_area": null,
            "grid_template_columns": null,
            "flex": null,
            "_model_name": "LayoutModel",
            "justify_items": null,
            "grid_row": null,
            "max_height": null,
            "align_content": null,
            "visibility": null,
            "align_self": null,
            "height": null,
            "min_height": null,
            "padding": null,
            "grid_auto_rows": null,
            "grid_gap": null,
            "max_width": null,
            "order": null,
            "_view_module_version": "1.2.0",
            "grid_template_areas": null,
            "object_position": null,
            "object_fit": null,
            "grid_auto_columns": null,
            "margin": null,
            "display": null,
            "left": null
          }
        },
        "a3bd790390224d66b6ca81d3eb4bde8b": {
          "model_module": "@jupyter-widgets/controls",
          "model_name": "DescriptionStyleModel",
          "state": {
            "_view_name": "StyleView",
            "_model_name": "DescriptionStyleModel",
            "description_width": "",
            "_view_module": "@jupyter-widgets/base",
            "_model_module_version": "1.5.0",
            "_view_count": null,
            "_view_module_version": "1.2.0",
            "_model_module": "@jupyter-widgets/controls"
          }
        },
        "7d5763cce8ec4327a1260958fad52036": {
          "model_module": "@jupyter-widgets/base",
          "model_name": "LayoutModel",
          "state": {
            "_view_name": "LayoutView",
            "grid_template_rows": null,
            "right": null,
            "justify_content": null,
            "_view_module": "@jupyter-widgets/base",
            "overflow": null,
            "_model_module_version": "1.2.0",
            "_view_count": null,
            "flex_flow": null,
            "width": null,
            "min_width": null,
            "border": null,
            "align_items": null,
            "bottom": null,
            "_model_module": "@jupyter-widgets/base",
            "top": null,
            "grid_column": null,
            "overflow_y": null,
            "overflow_x": null,
            "grid_auto_flow": null,
            "grid_area": null,
            "grid_template_columns": null,
            "flex": null,
            "_model_name": "LayoutModel",
            "justify_items": null,
            "grid_row": null,
            "max_height": null,
            "align_content": null,
            "visibility": null,
            "align_self": null,
            "height": null,
            "min_height": null,
            "padding": null,
            "grid_auto_rows": null,
            "grid_gap": null,
            "max_width": null,
            "order": null,
            "_view_module_version": "1.2.0",
            "grid_template_areas": null,
            "object_position": null,
            "object_fit": null,
            "grid_auto_columns": null,
            "margin": null,
            "display": null,
            "left": null
          }
        },
        "76e54d7a2d9f4f5498243d47c244a8fb": {
          "model_module": "@jupyter-widgets/controls",
          "model_name": "HBoxModel",
          "state": {
            "_view_name": "HBoxView",
            "_dom_classes": [],
            "_model_name": "HBoxModel",
            "_view_module": "@jupyter-widgets/controls",
            "_model_module_version": "1.5.0",
            "_view_count": null,
            "_view_module_version": "1.5.0",
            "box_style": "",
            "layout": "IPY_MODEL_cf8293b27d4844cbb2208ddd79ce96fd",
            "_model_module": "@jupyter-widgets/controls",
            "children": [
              "IPY_MODEL_787169104e894b55b7865801b9a101b1",
              "IPY_MODEL_4510eb9b95ef4d8aa5fc5a62d7422287"
            ]
          }
        },
        "cf8293b27d4844cbb2208ddd79ce96fd": {
          "model_module": "@jupyter-widgets/base",
          "model_name": "LayoutModel",
          "state": {
            "_view_name": "LayoutView",
            "grid_template_rows": null,
            "right": null,
            "justify_content": null,
            "_view_module": "@jupyter-widgets/base",
            "overflow": null,
            "_model_module_version": "1.2.0",
            "_view_count": null,
            "flex_flow": null,
            "width": null,
            "min_width": null,
            "border": null,
            "align_items": null,
            "bottom": null,
            "_model_module": "@jupyter-widgets/base",
            "top": null,
            "grid_column": null,
            "overflow_y": null,
            "overflow_x": null,
            "grid_auto_flow": null,
            "grid_area": null,
            "grid_template_columns": null,
            "flex": null,
            "_model_name": "LayoutModel",
            "justify_items": null,
            "grid_row": null,
            "max_height": null,
            "align_content": null,
            "visibility": null,
            "align_self": null,
            "height": null,
            "min_height": null,
            "padding": null,
            "grid_auto_rows": null,
            "grid_gap": null,
            "max_width": null,
            "order": null,
            "_view_module_version": "1.2.0",
            "grid_template_areas": null,
            "object_position": null,
            "object_fit": null,
            "grid_auto_columns": null,
            "margin": null,
            "display": null,
            "left": null
          }
        },
        "787169104e894b55b7865801b9a101b1": {
          "model_module": "@jupyter-widgets/controls",
          "model_name": "FloatProgressModel",
          "state": {
            "_view_name": "ProgressView",
            "style": "IPY_MODEL_c33534a29d054ec199e2057c2d2594b2",
            "_dom_classes": [],
            "description": "  0%",
            "_model_name": "FloatProgressModel",
            "bar_style": "info",
            "max": 1,
            "_view_module": "@jupyter-widgets/controls",
            "_model_module_version": "1.5.0",
            "value": 0,
            "_view_count": null,
            "_view_module_version": "1.5.0",
            "orientation": "horizontal",
            "min": 0,
            "description_tooltip": null,
            "_model_module": "@jupyter-widgets/controls",
            "layout": "IPY_MODEL_ed8788a2fd71413181d36a33f1ba4cd9"
          }
        },
        "4510eb9b95ef4d8aa5fc5a62d7422287": {
          "model_module": "@jupyter-widgets/controls",
          "model_name": "HTMLModel",
          "state": {
            "_view_name": "HTMLView",
            "style": "IPY_MODEL_0ce9627ae9a44b5bb6655318e5387c00",
            "_dom_classes": [],
            "description": "",
            "_model_name": "HTMLModel",
            "placeholder": "​",
            "_view_module": "@jupyter-widgets/controls",
            "_model_module_version": "1.5.0",
            "value": " 0/28881 [00:00&lt;?, ?it/s]",
            "_view_count": null,
            "_view_module_version": "1.5.0",
            "description_tooltip": null,
            "_model_module": "@jupyter-widgets/controls",
            "layout": "IPY_MODEL_a3da40db100f4c2da0f8952bcd649f40"
          }
        },
        "c33534a29d054ec199e2057c2d2594b2": {
          "model_module": "@jupyter-widgets/controls",
          "model_name": "ProgressStyleModel",
          "state": {
            "_view_name": "StyleView",
            "_model_name": "ProgressStyleModel",
            "description_width": "initial",
            "_view_module": "@jupyter-widgets/base",
            "_model_module_version": "1.5.0",
            "_view_count": null,
            "_view_module_version": "1.2.0",
            "bar_color": null,
            "_model_module": "@jupyter-widgets/controls"
          }
        },
        "ed8788a2fd71413181d36a33f1ba4cd9": {
          "model_module": "@jupyter-widgets/base",
          "model_name": "LayoutModel",
          "state": {
            "_view_name": "LayoutView",
            "grid_template_rows": null,
            "right": null,
            "justify_content": null,
            "_view_module": "@jupyter-widgets/base",
            "overflow": null,
            "_model_module_version": "1.2.0",
            "_view_count": null,
            "flex_flow": null,
            "width": null,
            "min_width": null,
            "border": null,
            "align_items": null,
            "bottom": null,
            "_model_module": "@jupyter-widgets/base",
            "top": null,
            "grid_column": null,
            "overflow_y": null,
            "overflow_x": null,
            "grid_auto_flow": null,
            "grid_area": null,
            "grid_template_columns": null,
            "flex": null,
            "_model_name": "LayoutModel",
            "justify_items": null,
            "grid_row": null,
            "max_height": null,
            "align_content": null,
            "visibility": null,
            "align_self": null,
            "height": null,
            "min_height": null,
            "padding": null,
            "grid_auto_rows": null,
            "grid_gap": null,
            "max_width": null,
            "order": null,
            "_view_module_version": "1.2.0",
            "grid_template_areas": null,
            "object_position": null,
            "object_fit": null,
            "grid_auto_columns": null,
            "margin": null,
            "display": null,
            "left": null
          }
        },
        "0ce9627ae9a44b5bb6655318e5387c00": {
          "model_module": "@jupyter-widgets/controls",
          "model_name": "DescriptionStyleModel",
          "state": {
            "_view_name": "StyleView",
            "_model_name": "DescriptionStyleModel",
            "description_width": "",
            "_view_module": "@jupyter-widgets/base",
            "_model_module_version": "1.5.0",
            "_view_count": null,
            "_view_module_version": "1.2.0",
            "_model_module": "@jupyter-widgets/controls"
          }
        },
        "a3da40db100f4c2da0f8952bcd649f40": {
          "model_module": "@jupyter-widgets/base",
          "model_name": "LayoutModel",
          "state": {
            "_view_name": "LayoutView",
            "grid_template_rows": null,
            "right": null,
            "justify_content": null,
            "_view_module": "@jupyter-widgets/base",
            "overflow": null,
            "_model_module_version": "1.2.0",
            "_view_count": null,
            "flex_flow": null,
            "width": null,
            "min_width": null,
            "border": null,
            "align_items": null,
            "bottom": null,
            "_model_module": "@jupyter-widgets/base",
            "top": null,
            "grid_column": null,
            "overflow_y": null,
            "overflow_x": null,
            "grid_auto_flow": null,
            "grid_area": null,
            "grid_template_columns": null,
            "flex": null,
            "_model_name": "LayoutModel",
            "justify_items": null,
            "grid_row": null,
            "max_height": null,
            "align_content": null,
            "visibility": null,
            "align_self": null,
            "height": null,
            "min_height": null,
            "padding": null,
            "grid_auto_rows": null,
            "grid_gap": null,
            "max_width": null,
            "order": null,
            "_view_module_version": "1.2.0",
            "grid_template_areas": null,
            "object_position": null,
            "object_fit": null,
            "grid_auto_columns": null,
            "margin": null,
            "display": null,
            "left": null
          }
        },
        "fd4f9630faaa453baafd2ac6c0be4281": {
          "model_module": "@jupyter-widgets/controls",
          "model_name": "HBoxModel",
          "state": {
            "_view_name": "HBoxView",
            "_dom_classes": [],
            "_model_name": "HBoxModel",
            "_view_module": "@jupyter-widgets/controls",
            "_model_module_version": "1.5.0",
            "_view_count": null,
            "_view_module_version": "1.5.0",
            "box_style": "",
            "layout": "IPY_MODEL_d2af5085bb9140b18cf2ce7117471b3f",
            "_model_module": "@jupyter-widgets/controls",
            "children": [
              "IPY_MODEL_d7152f927f7449d18a5dbf7aac51b200",
              "IPY_MODEL_8cd7816b5ff842fc8ca436f4be3c076c"
            ]
          }
        },
        "d2af5085bb9140b18cf2ce7117471b3f": {
          "model_module": "@jupyter-widgets/base",
          "model_name": "LayoutModel",
          "state": {
            "_view_name": "LayoutView",
            "grid_template_rows": null,
            "right": null,
            "justify_content": null,
            "_view_module": "@jupyter-widgets/base",
            "overflow": null,
            "_model_module_version": "1.2.0",
            "_view_count": null,
            "flex_flow": null,
            "width": null,
            "min_width": null,
            "border": null,
            "align_items": null,
            "bottom": null,
            "_model_module": "@jupyter-widgets/base",
            "top": null,
            "grid_column": null,
            "overflow_y": null,
            "overflow_x": null,
            "grid_auto_flow": null,
            "grid_area": null,
            "grid_template_columns": null,
            "flex": null,
            "_model_name": "LayoutModel",
            "justify_items": null,
            "grid_row": null,
            "max_height": null,
            "align_content": null,
            "visibility": null,
            "align_self": null,
            "height": null,
            "min_height": null,
            "padding": null,
            "grid_auto_rows": null,
            "grid_gap": null,
            "max_width": null,
            "order": null,
            "_view_module_version": "1.2.0",
            "grid_template_areas": null,
            "object_position": null,
            "object_fit": null,
            "grid_auto_columns": null,
            "margin": null,
            "display": null,
            "left": null
          }
        },
        "d7152f927f7449d18a5dbf7aac51b200": {
          "model_module": "@jupyter-widgets/controls",
          "model_name": "FloatProgressModel",
          "state": {
            "_view_name": "ProgressView",
            "style": "IPY_MODEL_9d31ebb897df4e87937af7c745a9a94f",
            "_dom_classes": [],
            "description": "",
            "_model_name": "FloatProgressModel",
            "bar_style": "success",
            "max": 1,
            "_view_module": "@jupyter-widgets/controls",
            "_model_module_version": "1.5.0",
            "value": 1,
            "_view_count": null,
            "_view_module_version": "1.5.0",
            "orientation": "horizontal",
            "min": 0,
            "description_tooltip": null,
            "_model_module": "@jupyter-widgets/controls",
            "layout": "IPY_MODEL_c97f8302e5534199bac56e64122b2d97"
          }
        },
        "8cd7816b5ff842fc8ca436f4be3c076c": {
          "model_module": "@jupyter-widgets/controls",
          "model_name": "HTMLModel",
          "state": {
            "_view_name": "HTMLView",
            "style": "IPY_MODEL_0545bdc8a4da4c54acbf92c184a53550",
            "_dom_classes": [],
            "description": "",
            "_model_name": "HTMLModel",
            "placeholder": "​",
            "_view_module": "@jupyter-widgets/controls",
            "_model_module_version": "1.5.0",
            "value": " 1654784/? [00:01&lt;00:00, 1449191.64it/s]",
            "_view_count": null,
            "_view_module_version": "1.5.0",
            "description_tooltip": null,
            "_model_module": "@jupyter-widgets/controls",
            "layout": "IPY_MODEL_dbe863bb5d6948d2a6d73a2fab41d2ad"
          }
        },
        "9d31ebb897df4e87937af7c745a9a94f": {
          "model_module": "@jupyter-widgets/controls",
          "model_name": "ProgressStyleModel",
          "state": {
            "_view_name": "StyleView",
            "_model_name": "ProgressStyleModel",
            "description_width": "initial",
            "_view_module": "@jupyter-widgets/base",
            "_model_module_version": "1.5.0",
            "_view_count": null,
            "_view_module_version": "1.2.0",
            "bar_color": null,
            "_model_module": "@jupyter-widgets/controls"
          }
        },
        "c97f8302e5534199bac56e64122b2d97": {
          "model_module": "@jupyter-widgets/base",
          "model_name": "LayoutModel",
          "state": {
            "_view_name": "LayoutView",
            "grid_template_rows": null,
            "right": null,
            "justify_content": null,
            "_view_module": "@jupyter-widgets/base",
            "overflow": null,
            "_model_module_version": "1.2.0",
            "_view_count": null,
            "flex_flow": null,
            "width": null,
            "min_width": null,
            "border": null,
            "align_items": null,
            "bottom": null,
            "_model_module": "@jupyter-widgets/base",
            "top": null,
            "grid_column": null,
            "overflow_y": null,
            "overflow_x": null,
            "grid_auto_flow": null,
            "grid_area": null,
            "grid_template_columns": null,
            "flex": null,
            "_model_name": "LayoutModel",
            "justify_items": null,
            "grid_row": null,
            "max_height": null,
            "align_content": null,
            "visibility": null,
            "align_self": null,
            "height": null,
            "min_height": null,
            "padding": null,
            "grid_auto_rows": null,
            "grid_gap": null,
            "max_width": null,
            "order": null,
            "_view_module_version": "1.2.0",
            "grid_template_areas": null,
            "object_position": null,
            "object_fit": null,
            "grid_auto_columns": null,
            "margin": null,
            "display": null,
            "left": null
          }
        },
        "0545bdc8a4da4c54acbf92c184a53550": {
          "model_module": "@jupyter-widgets/controls",
          "model_name": "DescriptionStyleModel",
          "state": {
            "_view_name": "StyleView",
            "_model_name": "DescriptionStyleModel",
            "description_width": "",
            "_view_module": "@jupyter-widgets/base",
            "_model_module_version": "1.5.0",
            "_view_count": null,
            "_view_module_version": "1.2.0",
            "_model_module": "@jupyter-widgets/controls"
          }
        },
        "dbe863bb5d6948d2a6d73a2fab41d2ad": {
          "model_module": "@jupyter-widgets/base",
          "model_name": "LayoutModel",
          "state": {
            "_view_name": "LayoutView",
            "grid_template_rows": null,
            "right": null,
            "justify_content": null,
            "_view_module": "@jupyter-widgets/base",
            "overflow": null,
            "_model_module_version": "1.2.0",
            "_view_count": null,
            "flex_flow": null,
            "width": null,
            "min_width": null,
            "border": null,
            "align_items": null,
            "bottom": null,
            "_model_module": "@jupyter-widgets/base",
            "top": null,
            "grid_column": null,
            "overflow_y": null,
            "overflow_x": null,
            "grid_auto_flow": null,
            "grid_area": null,
            "grid_template_columns": null,
            "flex": null,
            "_model_name": "LayoutModel",
            "justify_items": null,
            "grid_row": null,
            "max_height": null,
            "align_content": null,
            "visibility": null,
            "align_self": null,
            "height": null,
            "min_height": null,
            "padding": null,
            "grid_auto_rows": null,
            "grid_gap": null,
            "max_width": null,
            "order": null,
            "_view_module_version": "1.2.0",
            "grid_template_areas": null,
            "object_position": null,
            "object_fit": null,
            "grid_auto_columns": null,
            "margin": null,
            "display": null,
            "left": null
          }
        },
        "4f315b36e50e4b1da7335e818e30c77e": {
          "model_module": "@jupyter-widgets/controls",
          "model_name": "HBoxModel",
          "state": {
            "_view_name": "HBoxView",
            "_dom_classes": [],
            "_model_name": "HBoxModel",
            "_view_module": "@jupyter-widgets/controls",
            "_model_module_version": "1.5.0",
            "_view_count": null,
            "_view_module_version": "1.5.0",
            "box_style": "",
            "layout": "IPY_MODEL_3c5dbc683d7a40b4add13b20b235329b",
            "_model_module": "@jupyter-widgets/controls",
            "children": [
              "IPY_MODEL_5e867217eb3840f38b0b6e19c81b56a8",
              "IPY_MODEL_959b408f545c49f098e4864e2ccae69a"
            ]
          }
        },
        "3c5dbc683d7a40b4add13b20b235329b": {
          "model_module": "@jupyter-widgets/base",
          "model_name": "LayoutModel",
          "state": {
            "_view_name": "LayoutView",
            "grid_template_rows": null,
            "right": null,
            "justify_content": null,
            "_view_module": "@jupyter-widgets/base",
            "overflow": null,
            "_model_module_version": "1.2.0",
            "_view_count": null,
            "flex_flow": null,
            "width": null,
            "min_width": null,
            "border": null,
            "align_items": null,
            "bottom": null,
            "_model_module": "@jupyter-widgets/base",
            "top": null,
            "grid_column": null,
            "overflow_y": null,
            "overflow_x": null,
            "grid_auto_flow": null,
            "grid_area": null,
            "grid_template_columns": null,
            "flex": null,
            "_model_name": "LayoutModel",
            "justify_items": null,
            "grid_row": null,
            "max_height": null,
            "align_content": null,
            "visibility": null,
            "align_self": null,
            "height": null,
            "min_height": null,
            "padding": null,
            "grid_auto_rows": null,
            "grid_gap": null,
            "max_width": null,
            "order": null,
            "_view_module_version": "1.2.0",
            "grid_template_areas": null,
            "object_position": null,
            "object_fit": null,
            "grid_auto_columns": null,
            "margin": null,
            "display": null,
            "left": null
          }
        },
        "5e867217eb3840f38b0b6e19c81b56a8": {
          "model_module": "@jupyter-widgets/controls",
          "model_name": "FloatProgressModel",
          "state": {
            "_view_name": "ProgressView",
            "style": "IPY_MODEL_d860d2af988e4fcda955e773bb326240",
            "_dom_classes": [],
            "description": "",
            "_model_name": "FloatProgressModel",
            "bar_style": "success",
            "max": 1,
            "_view_module": "@jupyter-widgets/controls",
            "_model_module_version": "1.5.0",
            "value": 1,
            "_view_count": null,
            "_view_module_version": "1.5.0",
            "orientation": "horizontal",
            "min": 0,
            "description_tooltip": null,
            "_model_module": "@jupyter-widgets/controls",
            "layout": "IPY_MODEL_b62b3ed09d9e45558b26bed4d30b38fc"
          }
        },
        "959b408f545c49f098e4864e2ccae69a": {
          "model_module": "@jupyter-widgets/controls",
          "model_name": "HTMLModel",
          "state": {
            "_view_name": "HTMLView",
            "style": "IPY_MODEL_b91746cacf0a4a80bc051b52a80ccd3c",
            "_dom_classes": [],
            "description": "",
            "_model_name": "HTMLModel",
            "placeholder": "​",
            "_view_module": "@jupyter-widgets/controls",
            "_model_module_version": "1.5.0",
            "value": " 8192/? [00:00&lt;00:00, 18620.05it/s]",
            "_view_count": null,
            "_view_module_version": "1.5.0",
            "description_tooltip": null,
            "_model_module": "@jupyter-widgets/controls",
            "layout": "IPY_MODEL_09c6e12274934abdb96e7732ae4dbb0d"
          }
        },
        "d860d2af988e4fcda955e773bb326240": {
          "model_module": "@jupyter-widgets/controls",
          "model_name": "ProgressStyleModel",
          "state": {
            "_view_name": "StyleView",
            "_model_name": "ProgressStyleModel",
            "description_width": "initial",
            "_view_module": "@jupyter-widgets/base",
            "_model_module_version": "1.5.0",
            "_view_count": null,
            "_view_module_version": "1.2.0",
            "bar_color": null,
            "_model_module": "@jupyter-widgets/controls"
          }
        },
        "b62b3ed09d9e45558b26bed4d30b38fc": {
          "model_module": "@jupyter-widgets/base",
          "model_name": "LayoutModel",
          "state": {
            "_view_name": "LayoutView",
            "grid_template_rows": null,
            "right": null,
            "justify_content": null,
            "_view_module": "@jupyter-widgets/base",
            "overflow": null,
            "_model_module_version": "1.2.0",
            "_view_count": null,
            "flex_flow": null,
            "width": null,
            "min_width": null,
            "border": null,
            "align_items": null,
            "bottom": null,
            "_model_module": "@jupyter-widgets/base",
            "top": null,
            "grid_column": null,
            "overflow_y": null,
            "overflow_x": null,
            "grid_auto_flow": null,
            "grid_area": null,
            "grid_template_columns": null,
            "flex": null,
            "_model_name": "LayoutModel",
            "justify_items": null,
            "grid_row": null,
            "max_height": null,
            "align_content": null,
            "visibility": null,
            "align_self": null,
            "height": null,
            "min_height": null,
            "padding": null,
            "grid_auto_rows": null,
            "grid_gap": null,
            "max_width": null,
            "order": null,
            "_view_module_version": "1.2.0",
            "grid_template_areas": null,
            "object_position": null,
            "object_fit": null,
            "grid_auto_columns": null,
            "margin": null,
            "display": null,
            "left": null
          }
        },
        "b91746cacf0a4a80bc051b52a80ccd3c": {
          "model_module": "@jupyter-widgets/controls",
          "model_name": "DescriptionStyleModel",
          "state": {
            "_view_name": "StyleView",
            "_model_name": "DescriptionStyleModel",
            "description_width": "",
            "_view_module": "@jupyter-widgets/base",
            "_model_module_version": "1.5.0",
            "_view_count": null,
            "_view_module_version": "1.2.0",
            "_model_module": "@jupyter-widgets/controls"
          }
        },
        "09c6e12274934abdb96e7732ae4dbb0d": {
          "model_module": "@jupyter-widgets/base",
          "model_name": "LayoutModel",
          "state": {
            "_view_name": "LayoutView",
            "grid_template_rows": null,
            "right": null,
            "justify_content": null,
            "_view_module": "@jupyter-widgets/base",
            "overflow": null,
            "_model_module_version": "1.2.0",
            "_view_count": null,
            "flex_flow": null,
            "width": null,
            "min_width": null,
            "border": null,
            "align_items": null,
            "bottom": null,
            "_model_module": "@jupyter-widgets/base",
            "top": null,
            "grid_column": null,
            "overflow_y": null,
            "overflow_x": null,
            "grid_auto_flow": null,
            "grid_area": null,
            "grid_template_columns": null,
            "flex": null,
            "_model_name": "LayoutModel",
            "justify_items": null,
            "grid_row": null,
            "max_height": null,
            "align_content": null,
            "visibility": null,
            "align_self": null,
            "height": null,
            "min_height": null,
            "padding": null,
            "grid_auto_rows": null,
            "grid_gap": null,
            "max_width": null,
            "order": null,
            "_view_module_version": "1.2.0",
            "grid_template_areas": null,
            "object_position": null,
            "object_fit": null,
            "grid_auto_columns": null,
            "margin": null,
            "display": null,
            "left": null
          }
        }
      }
    }
  },
  "cells": [
    {
      "cell_type": "markdown",
      "metadata": {
        "id": "5lUO2Zqc0RKO"
      },
      "source": [
        "## Importation of packages, settings of the GPU, definitions of global constants"
      ]
    },
    {
      "cell_type": "code",
      "metadata": {
        "id": "jVLdQKyKyqX_"
      },
      "source": [
        "import sys\r\n",
        "import matplotlib.pyplot as plt\r\n",
        "%matplotlib inline\r\n",
        "import os\r\n",
        "import pandas as pd\r\n",
        "from tqdm import tqdm_notebook as tqdm\r\n",
        "\r\n",
        "import torch\r\n",
        "import torch.nn as nn\r\n",
        "import torch.nn.functional as F\r\n",
        "import torchvision.transforms as Trf"
      ],
      "execution_count": null,
      "outputs": []
    },
    {
      "cell_type": "code",
      "metadata": {
        "colab": {
          "base_uri": "https://localhost:8080/"
        },
        "id": "7aolX5LG1_Ul",
        "outputId": "827bc958-92c5-4cd2-d76f-1646075a1ad2"
      },
      "source": [
        "# Reproducibility\r\n",
        "torch.manual_seed(0)\r\n",
        "\r\n",
        "use_gpu = True\r\n",
        "device = torch.device(\"cuda:0\" if use_gpu and torch.cuda.is_available() else \"cpu\")\r\n",
        "device"
      ],
      "execution_count": null,
      "outputs": [
        {
          "output_type": "execute_result",
          "data": {
            "text/plain": [
              "device(type='cuda', index=0)"
            ]
          },
          "metadata": {
            "tags": []
          },
          "execution_count": 2
        }
      ]
    },
    {
      "cell_type": "code",
      "metadata": {
        "id": "LbcgvTOzywp2"
      },
      "source": [
        "batch_size = 128\n",
        "learning_rate = 1e-4"
      ],
      "execution_count": null,
      "outputs": []
    },
    {
      "cell_type": "markdown",
      "metadata": {
        "id": "E0mMm68wYaQy"
      },
      "source": [
        "MNIST Data Loading\n",
        "-------------------\n",
        "\n",
        "MNIST images show digits from 0-9 in 28x28 grayscale images. We do not center them at 0, because we will be using a binary cross-entropy loss that treats pixel values as probabilities in [0,1]. We create both a training set and a test set."
      ]
    },
    {
      "cell_type": "code",
      "metadata": {
        "id": "OWwnfyybYaQz",
        "colab": {
          "base_uri": "https://localhost:8080/",
          "height": 369,
          "referenced_widgets": [
            "ec12a4ab4ab5439299accdc68f7780ba",
            "80b5ba397e5144e4b5c4f9267516a6ac",
            "17dd5e32a80e400ab70e9cac12530692",
            "930de51046784198a07809d65de28c6d",
            "a5f67dc6801d429b8a1be0d3fc87b15b",
            "5b2e14af25c246b0bb7e8a25262a12de",
            "a3bd790390224d66b6ca81d3eb4bde8b",
            "7d5763cce8ec4327a1260958fad52036",
            "76e54d7a2d9f4f5498243d47c244a8fb",
            "cf8293b27d4844cbb2208ddd79ce96fd",
            "787169104e894b55b7865801b9a101b1",
            "4510eb9b95ef4d8aa5fc5a62d7422287",
            "c33534a29d054ec199e2057c2d2594b2",
            "ed8788a2fd71413181d36a33f1ba4cd9",
            "0ce9627ae9a44b5bb6655318e5387c00",
            "a3da40db100f4c2da0f8952bcd649f40",
            "fd4f9630faaa453baafd2ac6c0be4281",
            "d2af5085bb9140b18cf2ce7117471b3f",
            "d7152f927f7449d18a5dbf7aac51b200",
            "8cd7816b5ff842fc8ca436f4be3c076c",
            "9d31ebb897df4e87937af7c745a9a94f",
            "c97f8302e5534199bac56e64122b2d97",
            "0545bdc8a4da4c54acbf92c184a53550",
            "dbe863bb5d6948d2a6d73a2fab41d2ad",
            "4f315b36e50e4b1da7335e818e30c77e",
            "3c5dbc683d7a40b4add13b20b235329b",
            "5e867217eb3840f38b0b6e19c81b56a8",
            "959b408f545c49f098e4864e2ccae69a",
            "d860d2af988e4fcda955e773bb326240",
            "b62b3ed09d9e45558b26bed4d30b38fc",
            "b91746cacf0a4a80bc051b52a80ccd3c",
            "09c6e12274934abdb96e7732ae4dbb0d"
          ]
        },
        "outputId": "1840dca0-cb79-4026-cce3-932bbdcb90e9"
      },
      "source": [
        "import torchvision.transforms as transforms\n",
        "from torch.utils.data import DataLoader\n",
        "from torchvision.datasets import MNIST\n",
        "\n",
        "img_transform = transforms.Compose([\n",
        "    transforms.ToTensor()\n",
        "])\n",
        "\n",
        "train_dataset = MNIST(root='./data/MNIST', download=True, train=True, transform=img_transform)\n",
        "train_dataloader = DataLoader(train_dataset, batch_size=batch_size, shuffle=True)\n",
        "\n",
        "test_dataset = MNIST(root='./data/MNIST', download=True, train=False, transform=img_transform)\n",
        "test_dataloader = DataLoader(test_dataset, batch_size=batch_size, shuffle=True)"
      ],
      "execution_count": null,
      "outputs": [
        {
          "output_type": "stream",
          "text": [
            "Downloading http://yann.lecun.com/exdb/mnist/train-images-idx3-ubyte.gz to ./data/MNIST/MNIST/raw/train-images-idx3-ubyte.gz\n"
          ],
          "name": "stdout"
        },
        {
          "output_type": "display_data",
          "data": {
            "application/vnd.jupyter.widget-view+json": {
              "model_id": "ec12a4ab4ab5439299accdc68f7780ba",
              "version_minor": 0,
              "version_major": 2
            },
            "text/plain": [
              "HBox(children=(FloatProgress(value=1.0, bar_style='info', max=1.0), HTML(value='')))"
            ]
          },
          "metadata": {
            "tags": []
          }
        },
        {
          "output_type": "stream",
          "text": [
            "Extracting ./data/MNIST/MNIST/raw/train-images-idx3-ubyte.gz to ./data/MNIST/MNIST/raw\n",
            "Downloading http://yann.lecun.com/exdb/mnist/train-labels-idx1-ubyte.gz to ./data/MNIST/MNIST/raw/train-labels-idx1-ubyte.gz\n"
          ],
          "name": "stdout"
        },
        {
          "output_type": "display_data",
          "data": {
            "application/vnd.jupyter.widget-view+json": {
              "model_id": "76e54d7a2d9f4f5498243d47c244a8fb",
              "version_minor": 0,
              "version_major": 2
            },
            "text/plain": [
              "HBox(children=(FloatProgress(value=1.0, bar_style='info', max=1.0), HTML(value='')))"
            ]
          },
          "metadata": {
            "tags": []
          }
        },
        {
          "output_type": "stream",
          "text": [
            "Extracting ./data/MNIST/MNIST/raw/train-labels-idx1-ubyte.gz to ./data/MNIST/MNIST/raw\n",
            "Downloading http://yann.lecun.com/exdb/mnist/t10k-images-idx3-ubyte.gz to ./data/MNIST/MNIST/raw/t10k-images-idx3-ubyte.gz\n"
          ],
          "name": "stdout"
        },
        {
          "output_type": "display_data",
          "data": {
            "application/vnd.jupyter.widget-view+json": {
              "model_id": "fd4f9630faaa453baafd2ac6c0be4281",
              "version_minor": 0,
              "version_major": 2
            },
            "text/plain": [
              "HBox(children=(FloatProgress(value=1.0, bar_style='info', max=1.0), HTML(value='')))"
            ]
          },
          "metadata": {
            "tags": []
          }
        },
        {
          "output_type": "stream",
          "text": [
            "Extracting ./data/MNIST/MNIST/raw/t10k-images-idx3-ubyte.gz to ./data/MNIST/MNIST/raw\n",
            "Downloading http://yann.lecun.com/exdb/mnist/t10k-labels-idx1-ubyte.gz to ./data/MNIST/MNIST/raw/t10k-labels-idx1-ubyte.gz\n"
          ],
          "name": "stdout"
        },
        {
          "output_type": "display_data",
          "data": {
            "application/vnd.jupyter.widget-view+json": {
              "model_id": "4f315b36e50e4b1da7335e818e30c77e",
              "version_minor": 0,
              "version_major": 2
            },
            "text/plain": [
              "HBox(children=(FloatProgress(value=1.0, bar_style='info', max=1.0), HTML(value='')))"
            ]
          },
          "metadata": {
            "tags": []
          }
        },
        {
          "output_type": "stream",
          "text": [
            "Extracting ./data/MNIST/MNIST/raw/t10k-labels-idx1-ubyte.gz to ./data/MNIST/MNIST/raw\n",
            "Processing...\n",
            "Done!\n"
          ],
          "name": "stdout"
        },
        {
          "output_type": "stream",
          "text": [
            "/usr/local/lib/python3.6/dist-packages/torchvision/datasets/mnist.py:480: UserWarning: The given NumPy array is not writeable, and PyTorch does not support non-writeable tensors. This means you can write to the underlying (supposedly non-writeable) NumPy array using the tensor. You may want to copy the array to protect its data or make it writeable before converting it to a tensor. This type of warning will be suppressed for the rest of this program. (Triggered internally at  /pytorch/torch/csrc/utils/tensor_numpy.cpp:141.)\n",
            "  return torch.from_numpy(parsed.astype(m[2], copy=False)).view(*s)\n"
          ],
          "name": "stderr"
        }
      ]
    },
    {
      "cell_type": "markdown",
      "metadata": {
        "id": "LT4SpIAA2aTd"
      },
      "source": [
        "## Architecture"
      ]
    },
    {
      "cell_type": "code",
      "metadata": {
        "id": "WY7cLxSa2dqh",
        "colab": {
          "base_uri": "https://localhost:8080/"
        },
        "outputId": "66bdc892-b28b-4242-e0b9-f7336b748c07"
      },
      "source": [
        "class FC_Block(nn.Module):\r\n",
        "    \"\"\"\r\n",
        "    Fully connected block\r\n",
        "    \"\"\"\r\n",
        "    def __init__(self,in_features, out_features):\r\n",
        "        super(FC_Block, self).__init__()\r\n",
        "        self.lin = nn.Linear(in_features=in_features, out_features=out_features)\r\n",
        "        self.bn = nn.BatchNorm1d(out_features)\r\n",
        "\r\n",
        "    def forward(self, x):\r\n",
        "        x = self.bn(F.relu(self.lin(x)))\r\n",
        "\r\n",
        "        return x\r\n",
        "\r\n",
        "class Attention(nn.Module):\r\n",
        "    \r\n",
        "    def __init__(self, x_size, hidden_size, value=False):\r\n",
        "        super(Attention, self).__init__()\r\n",
        "        self.hidden_size = hidden_size\r\n",
        "        self.value = value\r\n",
        "\r\n",
        "        self.WQ = nn.Parameter(torch.randn((x_size, hidden_size), requires_grad=True))\r\n",
        "        self.WK = nn.Parameter(torch.randn((x_size, hidden_size), requires_grad=True))\r\n",
        "        if self.value :\r\n",
        "            self.WV = nn.Parameter(torch.randn((x_size, hidden_size), requires_grad=True))\r\n",
        "\r\n",
        "        self.softmax = torch.nn.Softmax(dim=2)\r\n",
        "        \r\n",
        "    def forward(self, X, h):\r\n",
        "        \"\"\"\r\n",
        "        X is the matrix composed of the different output of each brick.\r\n",
        "        h is the output of a brick so h is of size = ( batch_size, n_hidden)\r\n",
        "        h is present in X as one of its line.\r\n",
        "        \"\"\"\r\n",
        "        # We have to unsqueeze h because otherwise we do\r\n",
        "        # batch vector * batch matrix\r\n",
        "        # and we mix the batches together\r\n",
        "        # because, batch vector is interpreted as a matrix independant of batches\r\n",
        "        h = torch.unsqueeze(h, 1)\r\n",
        "\r\n",
        "        # Now we have a batch matrix and another batch matrix.\r\n",
        "        # Pytorch knows that he has to work dimension by dimension\r\n",
        "        Q = torch.matmul(h, self.WQ)\r\n",
        "        V = 0\r\n",
        "        if self.value:\r\n",
        "            V = torch.matmul(X, self.WV)\r\n",
        "        else:\r\n",
        "            V = X\r\n",
        "        K = torch.matmul(X, self.WK)\r\n",
        "\r\n",
        "        dot = torch.matmul(Q, torch.transpose(K, 1, 2))\r\n",
        "        dot /= torch.sqrt(torch.tensor(self.hidden_size, dtype=torch.float64))\r\n",
        "        softmax = self.softmax(dot)\r\n",
        "        return torch.matmul(softmax, V)\r\n",
        "\r\n",
        "class MNN(nn.Module):\r\n",
        "    def __init__(self, name, n_layers, n_bricks, params_block, hidden_size = 8, att_tran = True, att_top_down = True):\r\n",
        "        super(MNN, self).__init__()\r\n",
        "\r\n",
        "        # General parameters\r\n",
        "        self.name = name\r\n",
        "        self.n_layers = n_layers\r\n",
        "        self.n_bricks = n_bricks\r\n",
        "        self.params_block = params_block\r\n",
        "        self.modulelist = nn.ModuleList()\r\n",
        "        self.params = nn.ParameterList()\r\n",
        "        self.hidden_size = hidden_size\r\n",
        "        self.att_tran = att_tran\r\n",
        "        self.att_top_down = att_top_down\r\n",
        "        self.train_loss = []\r\n",
        "        self.test_loss = []\r\n",
        "\r\n",
        "        # Block parametres\r\n",
        "        self.mat_blocks = [[0 for j in range(n_bricks)] for i in range(n_layers)]\r\n",
        "        self.mat_x = [[0 for j in range(n_bricks)] for i in range(n_layers)]\r\n",
        "        for i in range(n_layers):\r\n",
        "            for j in range(n_bricks):\r\n",
        "                self.mat_blocks[i][j] = FC_Block(params_block[i][j][0],\r\n",
        "                                                params_block[i][j][1])\r\n",
        "                self.modulelist.append(self.mat_blocks[i][j].lin)\r\n",
        "                self.modulelist.append(self.mat_blocks[i][j].bn)\r\n",
        "        # We assemble in the out layer the result of the bricks\r\n",
        "        n_out = sum([self.params_block[-1][j][1] for j in range(self.n_bricks)])\r\n",
        "        self.out = nn.Linear(in_features=n_out, out_features=10)\r\n",
        "        self.modulelist.append(self.out)\r\n",
        "\r\n",
        "        if self.att_tran:\r\n",
        "        # Transversal attention\r\n",
        "            self.mat_tran = [[0 for j in range(n_bricks)] for i in range(n_layers)]\r\n",
        "            for i in range(n_layers-1):\r\n",
        "                for j in range(n_bricks):\r\n",
        "                    self.mat_tran[i][j] = Attention(params_block[i][j][1], self.hidden_size)\r\n",
        "                    self.params.append(self.mat_tran[i][j].WQ)\r\n",
        "                    self.params.append(self.mat_tran[i][j].WK)\r\n",
        "                    # self.params.append(self.mat_tran[i][j].WV)\r\n",
        "\r\n",
        "        if self.att_top_down:\r\n",
        "        # Top-down attention\r\n",
        "            self.mat_top_down = [[0 for j in range(n_bricks)] for i in range(n_layers)]\r\n",
        "            for i in range(n_layers-1):\r\n",
        "                for j in range(n_bricks):\r\n",
        "                    self.mat_top_down[i][j] = Attention(params_block[i][j][1], self.hidden_size)\r\n",
        "                    self.params.append(self.mat_top_down[i][j].WQ)\r\n",
        "                    self.params.append(self.mat_top_down[i][j].WK)\r\n",
        "                    # self.params.append(self.mat_top_down[i][j].WV)\r\n",
        "            \r\n",
        "    def forward(self, x):\r\n",
        "        # flatten image input\r\n",
        "        x = x.view(-1,28*28)\r\n",
        "        \r\n",
        "        # initialisation\r\n",
        "        for j in range(self.n_bricks):\r\n",
        "            # M\r\n",
        "            self.mat_x[0][j] = self.mat_blocks[0][j](x)\r\n",
        "\r\n",
        "        # propagation\r\n",
        "        for i in range(1, self.n_layers):\r\n",
        "\r\n",
        "            # We save the results of the attention (if there are some) in the matrix mat_x_after_att\r\n",
        "            mat_x_after_att = [0 for i in range(len(self.mat_x[i-1]))]\r\n",
        "            if self.att_tran or self.att_top_down:\r\n",
        "                for k in range(len(mat_x_after_att)):\r\n",
        "                    mat_x_after_att[k] = torch.zeros_like(self.mat_x[i-1][k])\r\n",
        "\r\n",
        "            # Transversal Attention\r\n",
        "            if self.att_tran:\r\n",
        "                for j in range(self.n_bricks):\r\n",
        "                    X = torch.cat(self.mat_x[i-1], dim=1) # size = (batch, 28*28*n_bricks)\r\n",
        "                    X = X.view(X.size()[0], self.n_bricks, -1)  # size = (batch, n_bricks, 28*28)\r\n",
        "                    h = X[:,j,:]\r\n",
        "                    att = self.mat_tran[i-1][j](X,h)\r\n",
        "                    mat_x_after_att[j] += torch.squeeze(att, dim = 1) # += or = ?\r\n",
        "\r\n",
        "            # Top_Down Attention\r\n",
        "            if self.att_top_down:\r\n",
        "                for j in range(self.n_bricks):\r\n",
        "                    # putting all previous self.mat_x[i_][j] at the same size as self.mat_x[i-1][j]\r\n",
        "                    X = torch.cat([nn.functional.interpolate(torch.unsqueeze(self.mat_x[i_][j], 1),\r\n",
        "                                                            size=self.mat_x[i-1][j].size()[1],\r\n",
        "                                                            mode='nearest')\r\n",
        "                                    for i_ in range(i)], dim=1)\r\n",
        "                    X = X.view(X.size()[0], i, -1) # size = (batch, i : current layer, 28*28)\r\n",
        "                    h = X[:,i-1,:] # the last line in X represents the block i - 1, j\r\n",
        "                    att = self.mat_top_down[i-1][j](X,h)\r\n",
        "                    mat_x_after_att[j] += torch.squeeze(att, dim = 1) # += or = ?\r\n",
        "\r\n",
        "            # Apply the Attentions specified in the parameters\r\n",
        "            if self.att_tran or self.att_top_down:\r\n",
        "                self.mat_x[i-1] = mat_x_after_att\r\n",
        "\r\n",
        "            # Propagation with feedforward\r\n",
        "            for j in range(self.n_bricks):\r\n",
        "                self.mat_x[i][j] = self.mat_blocks[i][j](self.mat_x[i-1][j])\r\n",
        "        # out\r\n",
        "        x_out = torch.cat(self.mat_x[-1], dim=1)\r\n",
        "        return self.out(x_out)\r\n",
        "\r\n"
      ],
      "execution_count": null,
      "outputs": [
        {
          "output_type": "stream",
          "text": [
            "\n",
            "\n"
          ],
          "name": "stdout"
        }
      ]
    },
    {
      "cell_type": "code",
      "metadata": {
        "id": "tkJJBB4kS8i9"
      },
      "source": [
        "def number_params(model):\r\n",
        "    return sum(p.numel() for p in model.parameters() if p.requires_grad)\r\n",
        "\r\n",
        "\r\n",
        "def create_net(name, n_layers, n_bricks, params_block, hidden_size,\r\n",
        "               att_tran, att_top_down):\r\n",
        "    \"\"\"\r\n",
        "    create the net and print the number of parameters in the FFN, and in the attention\r\n",
        "    \"\"\"\r\n",
        "    model = MNN(name=name, n_layers=n_layers, n_bricks=n_bricks, params_block=params_block,\r\n",
        "                hidden_size=hidden_size,\r\n",
        "                att_tran=att_tran, att_top_down=att_top_down)\r\n",
        "    model = model.to(device) # le mettre apreès mais pas ici\r\n",
        "\r\n",
        "    nb_params = number_params(model)\r\n",
        "\r\n",
        "    nb_params_tran = 0\r\n",
        "    if att_tran:\r\n",
        "        model_without_tran = MNN(name=name, n_layers=n_layers, n_bricks=n_bricks,\r\n",
        "                               params_block=params_block, att_tran=False,\r\n",
        "                               att_top_down=att_top_down)\r\n",
        "        nb_params_without_tran = number_params(model_without_tran)\r\n",
        "        nb_params_tran = nb_params - nb_params_without_tran\r\n",
        "        del model_without_tran\r\n",
        "\r\n",
        "    nb_params_td = 0\r\n",
        "    if att_top_down:\r\n",
        "        model_without_td = MNN(name=name, n_layers=n_layers, n_bricks=n_bricks,\r\n",
        "                               params_block=params_block, att_tran=att_tran,\r\n",
        "                               att_top_down=False)  \r\n",
        "        nb_params_without_td = number_params(model_without_td)\r\n",
        "        nb_params_td = nb_params - nb_params_without_td\r\n",
        "        del model_without_td\r\n",
        "\r\n",
        "    print(\"Model name:\", name)\r\n",
        "    print(\"Nb params in total:\", nb_params)\r\n",
        "    print(\"Nb params in transversal attention:\", nb_params_tran)\r\n",
        "    print(\"Nb params in top-down attention:\", nb_params_td)\r\n",
        "    print('')\r\n",
        "\r\n",
        "    return model"
      ],
      "execution_count": null,
      "outputs": []
    },
    {
      "cell_type": "markdown",
      "metadata": {
        "id": "Qmb4BV5CQhWY"
      },
      "source": [
        "## Training"
      ]
    },
    {
      "cell_type": "code",
      "metadata": {
        "id": "MmF5onNU5fxm"
      },
      "source": [
        "def train(model, nb_epoch=None, verbose=True):\r\n",
        "    optimizer = torch.optim.Adam(params=model.parameters(), lr=learning_rate, weight_decay=1e-5)\r\n",
        "\r\n",
        "    # set to training mode\r\n",
        "    model.train()\r\n",
        "\r\n",
        "    train_loss_avg = []\r\n",
        "    test_loss_avg = []\r\n",
        "\r\n",
        "    if verbose : print('Training ...')\r\n",
        "    NEPOCH = nb_epoch if nb_epoch else num_epoch \r\n",
        "    for epoch in range(NEPOCH):\r\n",
        "        train_loss_avg.append(0)\r\n",
        "        num_batches_train = 0\r\n",
        "\r\n",
        "        test_loss_avg.append(0)\r\n",
        "        num_batches_test = 0\r\n",
        "        \r\n",
        "        for image_batch, labels in train_dataloader:\r\n",
        "            \r\n",
        "            image_batch = image_batch.to(device)\r\n",
        "            labels = labels.to(device)\r\n",
        "\r\n",
        "            outputs = model(image_batch)\r\n",
        "            \r\n",
        "            # classification error\r\n",
        "            criterion = nn.CrossEntropyLoss()\r\n",
        "            loss = criterion(outputs, labels)\r\n",
        "            \r\n",
        "            # backpropagation\r\n",
        "            optimizer.zero_grad()\r\n",
        "            loss.backward()\r\n",
        "            \r\n",
        "            # one step of the optmizer (using the gradients from backpropagation)\r\n",
        "            optimizer.step()\r\n",
        "            \r\n",
        "            train_loss_avg[-1] += loss.item()\r\n",
        "            num_batches_train += 1\r\n",
        "\r\n",
        "        with torch.no_grad():\r\n",
        "            for image_batch, labels in test_dataloader:\r\n",
        "            \r\n",
        "                image_batch = image_batch.to(device)\r\n",
        "                labels = labels.to(device)\r\n",
        "\r\n",
        "                outputs = model(image_batch)\r\n",
        "\r\n",
        "                criterion = nn.CrossEntropyLoss()\r\n",
        "                loss = criterion(outputs, labels)\r\n",
        "\r\n",
        "                test_loss_avg[-1] += loss.item()\r\n",
        "                num_batches_test += 1\r\n",
        "            \r\n",
        "        train_loss_avg[-1] /= num_batches_train\r\n",
        "        test_loss_avg[-1] /= num_batches_test\r\n",
        "        model.train_loss.append(train_loss_avg[-1])\r\n",
        "        model.test_loss.append(test_loss_avg[-1])\r\n",
        "        if verbose : print('Epoch [%d / %d]. Train loss: %f. Test loss: %f.' % (epoch+1, NEPOCH, train_loss_avg[-1], test_loss_avg[-1]))\r\n",
        "\r\n",
        "def plot_losses(model):\r\n",
        "    # Plot training curve\r\n",
        "    plt.ion()\r\n",
        "    fig = plt.figure()\r\n",
        "    plt.plot(model.train_loss, label=\"train\")\r\n",
        "    plt.plot(model.test_loss, label=\"test\")\r\n",
        "    plt.legend()\r\n",
        "    plt.title(model.name)\r\n",
        "    plt.xlabel('Epochs')\r\n",
        "    plt.ylabel('Loss')\r\n",
        "    plt.show()"
      ],
      "execution_count": null,
      "outputs": []
    },
    {
      "cell_type": "markdown",
      "metadata": {
        "id": "FuYSbai6yJ4e"
      },
      "source": [
        "## Test of different models"
      ]
    },
    {
      "cell_type": "code",
      "metadata": {
        "colab": {
          "base_uri": "https://localhost:8080/"
        },
        "id": "JcKMnzLWT5-k",
        "outputId": "4d9dcbc1-9023-4298-c843-5a0ec6092182"
      },
      "source": [
        "\"\"\"\r\n",
        "The bricks have to be equal to each other in order to do the transversal attention\r\n",
        "\"\"\"\r\n",
        "params_block_1b4l = [  # brick 0        \r\n",
        "                [(28*28, 256)],   # first layer\r\n",
        "                [(256  , 256)],\r\n",
        "                [(256  , 256)],\r\n",
        "                [(256, 10   )]    \r\n",
        "                ]\r\n",
        "\r\n",
        "params_block_3b4l = [# brick 0           brick 1         brick2\r\n",
        "                [(28*28, 10*10), (28*28, 10*10), (28*28, 10*10)],   # first layer\r\n",
        "                [(10*10, 10*10), (10*10, 10*10), (10*10, 10*10)],   # second layer\r\n",
        "                [(10*10, 10*10), (10*10, 10*10), (10*10, 10*10)],   \r\n",
        "                [(10*10, 10   ), (10*10, 10   ), (10*10, 10   )]    \r\n",
        "                ]\r\n",
        "\r\n",
        "params_block_1b12l = [# brick 0\r\n",
        "                     [(28*28, 256)],   # first layer\r\n",
        "                     [(256,   128)],   # second layer\r\n",
        "                     [(128,   128)],\r\n",
        "                     [(128,   128)], \r\n",
        "                     [(128,   128)], \r\n",
        "                     [(128,   128)], \r\n",
        "                     [(128,   128)], \r\n",
        "                     [(128,   128)],\r\n",
        "                     [(128,   128)], \r\n",
        "                     [(128,   128)],   \r\n",
        "                     [(128,    64)],\r\n",
        "                     [(64,     10)],  \r\n",
        "                     ]\r\n",
        "\r\n",
        "params_block_2b6l = [# brick 0      # brick 1\r\n",
        "                     [(28*28, 256), (28*28, 256)],   # first layer\r\n",
        "                     [(256,   128), (256,   128)],   # second layer\r\n",
        "                     [(128,   128), (128,   128)],\r\n",
        "                     [(128,   128), (128,   128)],   \r\n",
        "                     [(128,    64), (128,    64)],\r\n",
        "                     [(64,     10), (64,     10)],  \r\n",
        "                     ]\r\n",
        "\r\n",
        "# Verifier qu'on ne peut pas faire autrement\r\n",
        "params_block_12b2l = [# brick 0      # brick 1\r\n",
        "                     [(28*28, 256), (28*28, 256), (28*28, 256), (28*28, 256), (28*28, 256), (28*28, 256), (28*28, 256), (28*28, 256), (28*28, 256), (28*28, 256), (28*28, 256), (28*28, 256)],   # first layer\r\n",
        "                     [(256,   10), (256,   10), (256,   10), (256,   10), (256,   10), (256,   10), (256,   10), (256,   10), (256,   10), (256,   10), (256,   10), (256,   10)],   # second layer\r\n",
        "                     ]\r\n",
        "\r\n",
        "ls_params_block = [params_block_1b4l, params_block_3b4l, params_block_1b12l, params_block_2b6l, params_block_12b2l]\r\n",
        "\r\n",
        "# Name convention: (Number of bricks)b(Number of layers)l(Size of h)h(T if att_tran else t)(TD if att_top_down else td)\r\n",
        "\r\n",
        "# Baseline without attention : perceptron\r\n",
        "mnn_1b4lttd = create_net(name=\"perceptron1b4lttd\", n_layers=4, n_bricks=1, params_block=params_block_1b4l, hidden_size = 20, att_tran=False, att_top_down=False)\r\n",
        "\r\n",
        "# MAIN BASELINE\r\n",
        "# Baseline with attention\r\n",
        "mnn_3b4l = create_net(name=\"baseline3b4l\", n_layers=4, n_bricks=3, params_block=params_block_3b4l, hidden_size = 20, att_tran=True, att_top_down=True)\r\n",
        "\r\n",
        "# 1. Test different hidden_size\r\n",
        "# Test with hidden size = 8\r\n",
        "mnn_3b4l8h = create_net(name=\"3b4l8h\", n_layers=4, n_bricks=3, params_block=params_block_3b4l, hidden_size = 8, att_tran=True, att_top_down=True)\r\n",
        "\r\n",
        "# Test with hidden size = 40\r\n",
        "mnn_3b4l40h = create_net(name=\"3b4l40h\", n_layers=4, n_bricks=3, params_block=params_block_3b4l, hidden_size = 40, att_tran=True, att_top_down=True)\r\n",
        "\r\n",
        "# 2. Test different type of attentions\r\n",
        "# Test only att_top_down\r\n",
        "mnn_3b4ltTD = create_net(name=\"3b4ltTD\", n_layers=4, n_bricks=3, params_block=params_block_3b4l, hidden_size = 20, att_tran=False, att_top_down=True)\r\n",
        "\r\n",
        "# Test only att_tran\r\n",
        "mnn_3b4lTtd = create_net(name=\"3b4lTtd\", n_layers=4, n_bricks=3, params_block=params_block_3b4l, hidden_size = 20, att_tran=True, att_top_down=False)\r\n",
        "\r\n",
        "# Test without attention\r\n",
        "mnn_3b4lttd = create_net(name=\"3b4lttd\", n_layers=4, n_bricks=3, params_block=params_block_3b4l, hidden_size = 20, att_tran=False, att_top_down=False)\r\n",
        "\r\n",
        "# 3. Test different architectures\r\n",
        "# Test number of layers\r\n",
        "mnn_1b12lTTD = create_net(name=\"1b12lTTD\", n_layers=12, n_bricks=1, params_block=params_block_1b12l, hidden_size = 20, att_tran=True, att_top_down=True)\r\n",
        "mnn_1b12lTtd = create_net(name=\"1b12lTtd\", n_layers=12, n_bricks=1, params_block=params_block_1b12l, hidden_size = 20, att_tran=True, att_top_down=False)\r\n",
        "mnn_1b12ltTD = create_net(name=\"1b12ltTD\", n_layers=12, n_bricks=1, params_block=params_block_1b12l, hidden_size = 20, att_tran=False, att_top_down=True)\r\n",
        "mnn_1b12lttd = create_net(name=\"1b12lttd\", n_layers=12, n_bricks=1, params_block=params_block_1b12l, hidden_size = 20, att_tran=False, att_top_down=False)\r\n",
        "\r\n",
        "# Test difference number of layers and bricks\r\n",
        "mnn_2b6lTTD = create_net(name=\"2b6lTTD\", n_layers=6, n_bricks=2, params_block=params_block_2b6l, hidden_size = 20, att_tran=True, att_top_down=True)\r\n",
        "mnn_2b6lTtd = create_net(name=\"2b6lTtd\", n_layers=6, n_bricks=2, params_block=params_block_2b6l, hidden_size = 20, att_tran=True, att_top_down=False)\r\n",
        "mnn_2b6ltTD = create_net(name=\"2b6ltTD\", n_layers=6, n_bricks=2, params_block=params_block_2b6l, hidden_size = 20, att_tran=False, att_top_down=True)\r\n",
        "mnn_2b6lTTD = create_net(name=\"2b6lTTD\", n_layers=6, n_bricks=2, params_block=params_block_2b6l, hidden_size = 20, att_tran=False, att_top_down=False)\r\n",
        "\r\n",
        "# Inserer dans la liste les 8p resceedentes\r\n",
        "\r\n",
        "# Test number of bricks\r\n",
        "mnn_12b2lTTD = create_net(name=\"12b2lTTD\", n_layers=2, n_bricks=12, params_block=params_block_12b2l, hidden_size = 20, att_tran=True, att_top_down=True)\r\n",
        "\r\n",
        "\r\n",
        "all_models = [mnn_3b4l, mnn_1b12ltTD]\r\n"
      ],
      "execution_count": null,
      "outputs": [
        {
          "output_type": "stream",
          "text": [
            "/usr/local/lib/python3.6/dist-packages/torch/nn/modules/container.py:434: UserWarning: Setting attributes on ParameterList is not supported.\n",
            "  warnings.warn(\"Setting attributes on ParameterList is not supported.\")\n"
          ],
          "name": "stderr"
        },
        {
          "output_type": "stream",
          "text": [
            "Model name: perceptron1b4lttd\n",
            "Nb params in total: 336780\n",
            "Nb params in transversal attention: 0\n",
            "Nb params in top-down attention: 0\n",
            "\n",
            "Model name: baseline3b4l\n",
            "Nb params in total: 373300\n",
            "Nb params in transversal attention: 57600\n",
            "Nb params in top-down attention: 57600\n",
            "\n",
            "Model name: 3b4l8h\n",
            "Nb params in total: 330100\n",
            "Nb params in transversal attention: 14400\n",
            "Nb params in top-down attention: 14400\n",
            "\n",
            "Model name: 3b4l40h\n",
            "Nb params in total: 445300\n",
            "Nb params in transversal attention: 129600\n",
            "Nb params in top-down attention: 129600\n",
            "\n",
            "Model name: 3b4ltTD\n",
            "Nb params in total: 337300\n",
            "Nb params in transversal attention: 0\n",
            "Nb params in top-down attention: 36000\n",
            "\n",
            "Model name: 3b4lTtd\n",
            "Nb params in total: 337300\n",
            "Nb params in transversal attention: 36000\n",
            "Nb params in top-down attention: 0\n",
            "\n",
            "Model name: 3b4lttd\n",
            "Nb params in total: 301300\n",
            "Nb params in transversal attention: 0\n",
            "Nb params in top-down attention: 0\n",
            "\n",
            "Model name: 1b12lTTD\n",
            "Nb params in total: 495692\n",
            "Nb params in transversal attention: 94208\n",
            "Nb params in top-down attention: 94208\n",
            "\n",
            "Model name: 1b12lTtd\n",
            "Nb params in total: 436812\n",
            "Nb params in transversal attention: 58880\n",
            "Nb params in top-down attention: 0\n",
            "\n",
            "Model name: 1b12ltTD\n",
            "Nb params in total: 436812\n",
            "Nb params in transversal attention: 0\n",
            "Nb params in top-down attention: 58880\n",
            "\n",
            "Model name: 1b12lttd\n",
            "Nb params in total: 377932\n",
            "Nb params in transversal attention: 0\n",
            "Nb params in top-down attention: 0\n",
            "\n",
            "Model name: 2b6lTTD\n",
            "Nb params in total: 667278\n",
            "Nb params in transversal attention: 90112\n",
            "Nb params in top-down attention: 90112\n",
            "\n",
            "Model name: 2b6lTtd\n",
            "Nb params in total: 610958\n",
            "Nb params in transversal attention: 56320\n",
            "Nb params in top-down attention: 0\n",
            "\n",
            "Model name: 2b6ltTD\n",
            "Nb params in total: 610958\n",
            "Nb params in transversal attention: 0\n",
            "Nb params in top-down attention: 56320\n",
            "\n",
            "Model name: 2b6lTTD\n",
            "Nb params in total: 554638\n",
            "Nb params in transversal attention: 0\n",
            "Nb params in top-down attention: 0\n",
            "\n",
            "Model name: 12b2lTTD\n",
            "Nb params in total: 2695714\n",
            "Nb params in transversal attention: 196608\n",
            "Nb params in top-down attention: 196608\n",
            "\n"
          ],
          "name": "stdout"
        }
      ]
    },
    {
      "cell_type": "code",
      "metadata": {
        "id": "Pkwi5ePrE-u8"
      },
      "source": [
        ""
      ],
      "execution_count": null,
      "outputs": []
    },
    {
      "cell_type": "markdown",
      "metadata": {
        "id": "saAvteiq8_fj"
      },
      "source": [
        "## Evaluation"
      ]
    },
    {
      "cell_type": "code",
      "metadata": {
        "id": "aHRmBNnc9bz5"
      },
      "source": [
        "def computer_accuracy(model, transform=None):\r\n",
        "    correct = 0\r\n",
        "    total = 0\r\n",
        "    with torch.no_grad():\r\n",
        "        for data in test_dataloader:\r\n",
        "            images, labels = data\r\n",
        "\r\n",
        "            if transform:\r\n",
        "                images = transform(images)\r\n",
        "\r\n",
        "\r\n",
        "            images = images.to(device)\r\n",
        "            labels = labels.to(device)\r\n",
        "\r\n",
        "            outputs = model(images)\r\n",
        "            _, predicted = torch.max(outputs.data, 1)\r\n",
        "            total += labels.size(0)\r\n",
        "            correct += (predicted == labels).sum().item()\r\n",
        "            \r\n",
        "        if False:\r\n",
        "            print('Accuracy of the network on the 10000 test images: %2f %%' % (\r\n",
        "            100 * correct / total))\r\n",
        "        return (100 * correct / total)"
      ],
      "execution_count": null,
      "outputs": []
    },
    {
      "cell_type": "markdown",
      "metadata": {
        "id": "ey89AWNQOCKp"
      },
      "source": [
        "## Test of the modularity"
      ]
    },
    {
      "cell_type": "markdown",
      "metadata": {
        "id": "uVdnhH-yN_kO"
      },
      "source": [
        "Différents types de modularité : \r\n",
        "MNIST / 2, MNIST /4 (diviser par 4 est plus loin de la tâche initiale et devrait profiter à un réseau modulaire)\r\n",
        "MNIST rotate, 15 degrés, 30 degrés, -15\r\n",
        "Mnist avec une salt and pepper noise avec différentes intensités\r\n",
        "MNISt avec Noise\r\n",
        "faire un resize crop de MNIST\r\n"
      ]
    },
    {
      "cell_type": "code",
      "metadata": {
        "id": "R1T-BxG4Uj51"
      },
      "source": [
        "def test_modularity(model):\r\n",
        "    dic = {}\r\n",
        "    for test in list_test:\r\n",
        "        name, f = test\r\n",
        "        # print(\" \")\r\n",
        "        # print(\"Test :\", name)\r\n",
        "        acc = computer_accuracy(model, f)\r\n",
        "        dic[name] = acc\r\n",
        "    return dic\r\n",
        "\r\n",
        "list_test = [\r\n",
        "    # Identity\r\n",
        "    (\"Identity\", lambda image : image),\r\n",
        "\r\n",
        "    # Scales\r\n",
        "    (\"half_scaler\", lambda image : image * 0.5),\r\n",
        "    (\"twice_scaler\", lambda image : image * 2),\r\n",
        "    (\"scaler_tenth\", lambda image : image * 0.1),\r\n",
        "    (\"scaler_10\", lambda image : image * 10),\r\n",
        "\r\n",
        "    # Rotations\r\n",
        "    (\"rot_30\", Trf.RandomRotation(30)),\r\n",
        "    (\"rot_45\", Trf.RandomRotation(45)),\r\n",
        "\r\n",
        "    # Resize Crop\r\n",
        "    (\"ResizedCrop\", Trf.RandomResizedCrop(28, scale=(0.08, 1.0),\r\n",
        "                                          ratio=(0.75, 1.3333333333333333), interpolation=2)), # 28 ?\r\n",
        "\r\n",
        "    # Normalize\r\n",
        "    (\"GaussianBlur\", Trf.GaussianBlur(kernel_size=5, sigma=(0.1, 2.0))),\r\n",
        "    (\"Normalize\", Trf.Normalize(mean=1, std=1, inplace=False)),\r\n",
        "\r\n",
        "    # Salt and pepper\r\n",
        "    (\"RandomErasing\", Trf.RandomErasing(p=1, scale=(0.02, 0.33),\r\n",
        "                                        ratio=(0.3, 3.3), value=0, inplace=False)),\r\n",
        "]"
      ],
      "execution_count": null,
      "outputs": []
    },
    {
      "cell_type": "code",
      "metadata": {
        "id": "V7htUCjznVeW",
        "colab": {
          "base_uri": "https://localhost:8080/",
          "height": 882
        },
        "outputId": "7840c3dd-2bf3-4267-e4ad-5dc65a432ade"
      },
      "source": [
        "fig, axs = plt.subplots(2, 5, figsize=(22, 9))\r\n",
        "\r\n",
        "def plot_transfo(f, i, name):\r\n",
        "    for data in test_dataloader:\r\n",
        "        images, labels = data\r\n",
        "        images = f(images)\r\n",
        "        axs[i//5, i%5].imshow(images[0,0, :, :], cmap='gray')\r\n",
        "        axs[i//5, i%5].set_title(name)\r\n",
        "        break\r\n",
        "\r\n",
        "for i, test in enumerate(list_test[1:]):\r\n",
        "    name, f = test\r\n",
        "    print(\" \")\r\n",
        "    print(\"Test :\", name)\r\n",
        "    plot_transfo(f, i, name)\r\n",
        "\r\n",
        "plt.show()"
      ],
      "execution_count": null,
      "outputs": [
        {
          "output_type": "stream",
          "text": [
            " \n",
            "Test : half_scaler\n",
            " \n",
            "Test : twice_scaler\n",
            " \n",
            "Test : scaler_tenth\n",
            " \n",
            "Test : scaler_10\n",
            " \n",
            "Test : rot_30\n",
            " \n",
            "Test : rot_45\n",
            " \n",
            "Test : ResizedCrop\n",
            " \n",
            "Test : GaussianBlur\n",
            " \n",
            "Test : Normalize\n",
            " \n",
            "Test : RandomErasing\n"
          ],
          "name": "stdout"
        },
        {
          "output_type": "display_data",
          "data": {
            "image/png": "[encoded data removed]",
            "text/plain": [
              "<Figure size 1584x648 with 10 Axes>"
            ]
          },
          "metadata": {
            "tags": [],
            "needs_background": "light"
          }
        }
      ]
    },
    {
      "cell_type": "markdown",
      "metadata": {
        "id": "SEo2taDqlBEl"
      },
      "source": [
        "## Test Modularity of the different Networks"
      ]
    },
    {
      "cell_type": "code",
      "metadata": {
        "id": "DNSW71aSO5K3"
      },
      "source": [
        "def compute_sum_up():\r\n",
        "    ls = []\r\n",
        "    print(\"test modularity...\")\r\n",
        "    for net in (all_models):\r\n",
        "        ls.append((test_modularity(net)))\r\n",
        "\r\n",
        "    df = pd.DataFrame(ls, index = [model.name for model in all_models])\r\n",
        "\r\n",
        "    # Comparison between models\r\n",
        "    df_diff_baseline = df.copy(deep=True)\r\n",
        "\r\n",
        "    for i in range(2,len(df.index)):\r\n",
        "        df_diff_baseline.iloc[i] = df.iloc[i] - df.iloc[1]\r\n",
        "\r\n",
        "    df_diff_baseline[\"mean\"] = df_diff_baseline.mean(axis=1)\r\n",
        "    df_diff_baseline = df_diff_baseline.drop(df.index[:2])\r\n",
        "\r\n",
        "    return df, df_diff_baseline"
      ],
      "execution_count": null,
      "outputs": []
    },
    {
      "cell_type": "markdown",
      "metadata": {
        "id": "TCx7ZyLeQRL8"
      },
      "source": [
        "## Training and results"
      ]
    },
    {
      "cell_type": "code",
      "metadata": {
        "id": "TF2_YLyzQWWE"
      },
      "source": [
        "epoch = 0\r\n",
        "RES = []\r\n",
        "ls_checkpoint_epoch = [1, 2, 5, 10, 20]\r\n",
        "ls_check = [0]+ls_checkpoint_epoch\r\n",
        "for EP in tqdm([ls_check[i]-ls_check[i-1] for i in range(1,len(ls_check))]):\r\n",
        "    for model in tqdm(all_models):\r\n",
        "        print('')\r\n",
        "        print(\"Model name:\", model.name)\r\n",
        "        train(model, nb_epoch=EP)\r\n",
        "    epoch += EP\r\n",
        "    df, df_diff_baseline = compute_sum_up()\r\n",
        "    RES.append((epoch,df, df_diff_baseline ))"
      ],
      "execution_count": null,
      "outputs": []
    },
    {
      "cell_type": "markdown",
      "metadata": {
        "id": "0R2G8Hs4Pjcp"
      },
      "source": [
        "résults epoch 1"
      ]
    },
    {
      "cell_type": "code",
      "metadata": {
        "id": "kfnQ8Fkzy8EG"
      },
      "source": [
        "for res in RES :\r\n",
        "    epoch,df, df_diff_baseline  = res\r\n",
        "    print(\" \")\r\n",
        "    print(\"EPOCH : \", epoch)\r\n",
        "    display(df)\r\n",
        "    display(df_diff_baseline)"
      ],
      "execution_count": null,
      "outputs": []
    },
    {
      "cell_type": "markdown",
      "metadata": {
        "id": "e7AuacEcIz7Z"
      },
      "source": [
        "conclusion à la 20e époch:\r\n",
        "L'attention transversale à éviter. Attention top down ne change pas la donne.\r\n",
        "\r\n",
        "- le perceptron de merde sans aucune attention fait mieux que tout le monde même sur les tâches compliquées sur toutes les tâche. C'est la domination totale. Au moins comme ça c'est clair.\r\n",
        "- faire un perceptron sans attention avec 3 briques permet de presque être au meilleur niveau. Mais on voit que rajouter des briques n'améliore pas les résultats si les briques ne communiquent pas entre elle. Etonnament, ça ne permet pas de faire un modèle type bagging.\r\n",
        "- Rajouter de l'attention transversale fait grandement diminuer les performances : comme on le voit dans les modèles baseline, 3b4l8h, 3b4lTtd (ici on l'a mis que l'attention transversale, et les performances sont mauvaises)\r\n",
        "\r\n",
        "\r\n",
        "Commentaire sur expérience à faire en plus :\r\n",
        "- 12b2l marche assez bien pour un réseau à seuelement deux briques. Comparer sans attention transversale et td.\r\n",
        "- 1b12l marche peu. Mais on sait maintenant que c'est à cause de l'attention trasversale qui ne sert à rien ici car il n'y a qu'une seule brique.\r\n",
        "- faire une experience avec 4*4 réseaux pour chacune des tailles et attention."
      ]
    },
    {
      "cell_type": "code",
      "metadata": {
        "id": "65_RziFHoYeX"
      },
      "source": [
        "for model in (all_models):\r\n",
        "    plot_losses(model)"
      ],
      "execution_count": null,
      "outputs": []
    },
    {
      "cell_type": "markdown",
      "metadata": {
        "id": "IKqgbgURH1sB"
      },
      "source": [
        ""
      ]
    },
    {
      "cell_type": "code",
      "metadata": {
        "id": "6qSokkF_6_tQ"
      },
      "source": [
        "from google.colab import drive\r\n",
        "drive.mount('/content/gdrive')"
      ],
      "execution_count": null,
      "outputs": []
    }
  ]
}